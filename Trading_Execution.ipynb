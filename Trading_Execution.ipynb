{
 "cells": [
  {
   "cell_type": "code",
   "execution_count": null,
   "id": "7fbc96a4-3081-4fba-8f67-cc3fe92b23ff",
   "metadata": {},
   "outputs": [],
   "source": [
    "from ibapi.client import EClient\n",
    "from ibapi.wrapper import EWrapper  \n",
    "\n",
    "class IBapi(EWrapper, EClient):\n",
    "     def __init__(self):\n",
    "         EClient.__init__(self, self) \n",
    "\n",
    "app = IBapi()\n",
    "app.connect('127.0.0.1', 7496, 123)\n",
    "app.run()\n",
    "import time\n",
    "time.sleep(2)\n",
    "app.disconnect()\n",
    "'''\n",
    "#Uncomment this section if unable to connect\n",
    "#and to prevent errors on a reconnect\n",
    "import time\n",
    "time.sleep(2)\n",
    "app.disconnect()\n",
    "'''"
   ]
  },
  {
   "cell_type": "code",
   "execution_count": 4,
   "id": "71b083ca-bb4d-4166-b5eb-cef5ceccd601",
   "metadata": {},
   "outputs": [
    {
     "name": "stdout",
     "output_type": "stream",
     "text": [
      "['/Users/eason/Paper_Trading_Strategy/Paper_Trading_Strategy', '/opt/anaconda3/lib/python3.8/site-packages/ibapi-10.19.3-py3.8.egg', '/Library/Developer/CommandLineTools/Library/Frameworks/Python3.framework/Versions/3.8/lib/python38.zip', '/Library/Developer/CommandLineTools/Library/Frameworks/Python3.framework/Versions/3.8/lib/python3.8', '/Library/Developer/CommandLineTools/Library/Frameworks/Python3.framework/Versions/3.8/lib/python3.8/lib-dynload', '', '/Users/eason/Library/Python/3.8/lib/python/site-packages', '/Library/Developer/CommandLineTools/Library/Frameworks/Python3.framework/Versions/3.8/lib/python3.8/site-packages']\n",
      "10.19.3\n",
      "/opt/anaconda3/lib/python3.8/site-packages/ibapi-10.19.3-py3.8.egg/ibapi/__init__.py\n"
     ]
    }
   ],
   "source": [
    "import sys\n",
    "sys.path.insert(1,\"/opt/anaconda3/lib/python3.8/site-packages/ibapi-10.19.3-py3.8.egg\")\n",
    "#sys.path.remove('opt/anaconda3/lib/python3.8/site-packages')\n",
    "print(sys.path)\n",
    "import ibapi\n",
    "print(ibapi.__version__)\n",
    "print(ibapi.__file__)"
   ]
  },
  {
   "cell_type": "code",
   "execution_count": 6,
   "id": "81e81d21-9b17-4178-a3a7-22b3a2fb0fe7",
   "metadata": {},
   "outputs": [
    {
     "name": "stdout",
     "output_type": "stream",
     "text": [
      "/opt/anaconda3/bin/pip\n"
     ]
    }
   ],
   "source": [
    "!which -a pip"
   ]
  },
  {
   "cell_type": "code",
   "execution_count": 5,
   "id": "41d9f73d-10fd-4106-bec9-c119b7f1bec8",
   "metadata": {},
   "outputs": [
    {
     "name": "stdout",
     "output_type": "stream",
     "text": [
      "/opt/anaconda3/bin/python\n",
      "/usr/bin/python\n"
     ]
    }
   ],
   "source": [
    "!which -a python"
   ]
  },
  {
   "cell_type": "code",
   "execution_count": 9,
   "id": "610a7e79-6536-408f-9995-83618ed3b147",
   "metadata": {},
   "outputs": [
    {
     "name": "stdout",
     "output_type": "stream",
     "text": [
      "/opt/anaconda3/bin/python\n"
     ]
    }
   ],
   "source": [
    "!which python"
   ]
  },
  {
   "cell_type": "code",
   "execution_count": 3,
   "id": "a4cd0091-d629-4de5-8c2b-8126460678dd",
   "metadata": {},
   "outputs": [
    {
     "name": "stdout",
     "output_type": "stream",
     "text": [
      "/usr/bin/easy_install\n"
     ]
    }
   ],
   "source": [
    "!which easy_install"
   ]
  },
  {
   "cell_type": "code",
   "execution_count": 20,
   "id": "7b0d95f6-9f66-4bae-9a6f-e0e68aaabb89",
   "metadata": {},
   "outputs": [
    {
     "name": "stdout",
     "output_type": "stream",
     "text": [
      "Name: ibapi\n",
      "Version: 10.19.3\n",
      "Summary: Python IB API\n",
      "Home-page: https://interactivebrokers.github.io/tws-api\n",
      "Author: IBG LLC\n",
      "Author-email: dnastase@interactivebrokers.com\n",
      "License: IB API Non-Commercial License or the IB API Commercial License\n",
      "Location: /opt/anaconda3/lib/python3.8/site-packages/ibapi-10.19.3-py3.8.egg\n",
      "Requires: \n",
      "Required-by: \n"
     ]
    }
   ],
   "source": [
    "!pip show ibapi"
   ]
  },
  {
   "cell_type": "code",
   "execution_count": 5,
   "id": "ebb024f3-0907-4301-aaca-44cc7dfc87e0",
   "metadata": {},
   "outputs": [
    {
     "data": {
      "text/plain": [
       "'10.19.3'"
      ]
     },
     "execution_count": 5,
     "metadata": {},
     "output_type": "execute_result"
    }
   ],
   "source": [
    "import ibapi\n",
    "ibapi.__version__"
   ]
  },
  {
   "cell_type": "code",
   "execution_count": null,
   "id": "da330fe7-4975-4a89-8193-cb81d975393b",
   "metadata": {},
   "outputs": [],
   "source": [
    "sys.executable"
   ]
  },
  {
   "cell_type": "code",
   "execution_count": null,
   "id": "1653755f-9d2a-459f-bc1d-32545d38c92e",
   "metadata": {},
   "outputs": [],
   "source": [
    "import os\n",
    "print(os.__file__)"
   ]
  },
  {
   "cell_type": "code",
   "execution_count": null,
   "id": "91f9ac68-5964-4ddb-849c-92c11b4514ae",
   "metadata": {},
   "outputs": [],
   "source": []
  },
  {
   "cell_type": "code",
   "execution_count": 10,
   "id": "7dc2d895-0166-473c-80b0-c186b43711d8",
   "metadata": {},
   "outputs": [
    {
     "name": "stderr",
     "output_type": "stream",
     "text": [
      "ERROR -1 2104 Market data farm connection is OK:usfarm.nj\n",
      "ERROR -1 2104 Market data farm connection is OK:usfuture\n",
      "ERROR -1 2104 Market data farm connection is OK:cashfarm\n",
      "ERROR -1 2104 Market data farm connection is OK:usfarm\n",
      "ERROR -1 2106 HMDS data farm connection is OK:ushmds\n",
      "ERROR -1 2158 Sec-def data farm connection is OK:secdefil\n"
     ]
    },
    {
     "name": "stdout",
     "output_type": "stream",
     "text": [
      "the current ask price is:  171.05\n"
     ]
    }
   ],
   "source": [
    "# retrieve current ask price of Apple\n",
    "\n",
    "from ibapi.client import EClient\n",
    "from ibapi.wrapper import EWrapper\n",
    "from ibapi.contract import Contract\n",
    "import threading\n",
    "import time\n",
    "\n",
    "class IBapi(EWrapper,EClient):\n",
    "    def __init__(self):\n",
    "        EClient.__init__(self,self)\n",
    "    def tickPrice(self,reqId,tickType,price,attrib):\n",
    "        if tickType == 2 and reqId == 1:\n",
    "            print('the current ask price is: ', price)\n",
    "\n",
    "def run_loop():\n",
    "    app.run()\n",
    "    \n",
    "app = IBapi()\n",
    "app.connect('127.0.0.1', 7497, 123)\n",
    "api_thread = threading.Thread(target=run_loop, daemon=True) # Start the socket in a thread\n",
    "api_thread.start()\n",
    "time.sleep(1) # Sleep interval to allow time for connection to server\n",
    "\n",
    "apple_contract = Contract()\n",
    "apple_contract.symbol = 'AAPL'\n",
    "apple_contract.secType = 'STK'\n",
    "apple_contract.exchange = 'SMART'\n",
    "apple_contract.currency = 'USD'\n",
    "\n",
    "#Request Market Data\n",
    "app.reqMktData(1, apple_contract, '', False, False, [])\n",
    "\n",
    "time.sleep(10) #Sleep interval to allow time for incoming price data\n",
    "app.disconnect()"
   ]
  },
  {
   "cell_type": "code",
   "execution_count": 15,
   "id": "96144c34-bda7-47fe-bab6-1820673362bf",
   "metadata": {},
   "outputs": [
    {
     "name": "stderr",
     "output_type": "stream",
     "text": [
      "ERROR -1 2104 Market data farm connection is OK:usfarm.nj\n",
      "ERROR -1 2104 Market data farm connection is OK:usfuture\n",
      "ERROR -1 2104 Market data farm connection is OK:cashfarm\n",
      "ERROR -1 2104 Market data farm connection is OK:usfarm\n",
      "ERROR -1 2106 HMDS data farm connection is OK:cashhmds\n",
      "ERROR -1 2106 HMDS data farm connection is OK:ushmds\n",
      "ERROR -1 2158 Sec-def data farm connection is OK:secdefil\n"
     ]
    },
    {
     "name": "stdout",
     "output_type": "stream",
     "text": [
      "Time: 1711314900 Close: 1.08084\n",
      "Time: 1711317600 Close: 1.08083\n",
      "Time: 1711321200 Close: 1.08071\n",
      "Time: 1711324800 Close: 1.08035\n",
      "Time: 1711328400 Close: 1.08169\n",
      "Time: 1711332000 Close: 1.08216\n",
      "Time: 1711335600 Close: 1.08135\n",
      "Time: 1711339200 Close: 1.08131\n",
      "Time: 1711342800 Close: 1.08222\n",
      "Time: 1711346400 Close: 1.08174\n",
      "Time: 1711350000 Close: 1.08137\n",
      "Time: 1711353600 Close: 1.08137\n",
      "Time: 1711357200 Close: 1.08175\n",
      "Time: 1711360800 Close: 1.08179\n",
      "Time: 1711364400 Close: 1.08284\n",
      "Time: 1711368000 Close: 1.08306\n",
      "Time: 1711371600 Close: 1.0835\n",
      "Time: 1711375200 Close: 1.08389\n",
      "Time: 1711378800 Close: 1.08366\n",
      "Time: 1711382400 Close: 1.08366\n",
      "Time: 1711386000 Close: 1.08364\n",
      "Time: 1711389600 Close: 1.08358\n",
      "Time: 1711393200 Close: 1.08392\n",
      "Time: 1711396800 Close: 1.08371\n",
      "Time: 1711401300 Close: 1.08366\n",
      "Time: 1711404000 Close: 1.08369\n",
      "Time: 1711407600 Close: 1.08369\n",
      "Time: 1711411200 Close: 1.08427\n",
      "Time: 1711414800 Close: 1.08405\n",
      "Time: 1711418400 Close: 1.08426\n",
      "Time: 1711422000 Close: 1.08368\n",
      "Time: 1711425600 Close: 1.08401\n",
      "Time: 1711429200 Close: 1.08471\n",
      "Time: 1711432800 Close: 1.08478\n"
     ]
    }
   ],
   "source": [
    "# retrieve last 10 hourly candlebars\n",
    "\n",
    "from ibapi.client import EClient\n",
    "from ibapi.wrapper import EWrapper\n",
    "from ibapi.contract import Contract\n",
    "\n",
    "import threading\n",
    "import time\n",
    "\n",
    "class IBapi(EWrapper, EClient):\n",
    "\tdef __init__(self):\n",
    "\t\tEClient.__init__(self, self)\n",
    "\tdef historicalData(self, reqId, bar):\n",
    "\t\tprint(f'Time: {bar.date} Close: {bar.close}')\n",
    "\t\t\n",
    "def run_loop():\n",
    "\tapp.run()\n",
    "\n",
    "app = IBapi()\n",
    "app.connect('127.0.0.1', 7497, 123)\n",
    "\n",
    "#Start the socket in a thread\n",
    "api_thread = threading.Thread(target=run_loop, daemon=True)\n",
    "api_thread.start()\n",
    "\n",
    "time.sleep(1) #Sleep interval to allow time for connection to server\n",
    "\n",
    "#Create contract object\n",
    "eurusd_contract = Contract()\n",
    "eurusd_contract.symbol = 'EUR'\n",
    "eurusd_contract.secType = 'CASH'\n",
    "eurusd_contract.exchange = 'IDEALPRO'\n",
    "eurusd_contract.currency = 'USD'\n",
    "\n",
    "#Request historical candles\n",
    "app.reqHistoricalData(1, eurusd_contract, '', '2 D', '1 hour', 'BID', 0, 2, False, [])\n",
    "\n",
    "time.sleep(5) #sleep to allow enough time for data to be returned\n",
    "app.disconnect()"
   ]
  },
  {
   "cell_type": "code",
   "execution_count": 16,
   "id": "7a97620e-0974-4926-8cd0-e0d29e6a4e27",
   "metadata": {},
   "outputs": [
    {
     "name": "stderr",
     "output_type": "stream",
     "text": [
      "ERROR -1 2104 Market data farm connection is OK:usfarm.nj\n",
      "ERROR -1 2104 Market data farm connection is OK:usfuture\n",
      "ERROR -1 2104 Market data farm connection is OK:cashfarm\n",
      "ERROR -1 2104 Market data farm connection is OK:usfarm\n",
      "ERROR -1 2106 HMDS data farm connection is OK:cashhmds\n",
      "ERROR -1 2106 HMDS data farm connection is OK:ushmds\n",
      "ERROR -1 2158 Sec-def data farm connection is OK:secdefil\n"
     ]
    },
    {
     "name": "stdout",
     "output_type": "stream",
     "text": [
      "Time: 1711314900 Close: 1.08084\n",
      "Time: 1711317600 Close: 1.08083\n",
      "Time: 1711321200 Close: 1.08071\n",
      "Time: 1711324800 Close: 1.08035\n",
      "Time: 1711328400 Close: 1.08169\n",
      "Time: 1711332000 Close: 1.08216\n",
      "Time: 1711335600 Close: 1.08135\n",
      "Time: 1711339200 Close: 1.08131\n",
      "Time: 1711342800 Close: 1.08222\n",
      "Time: 1711346400 Close: 1.08174\n",
      "Time: 1711350000 Close: 1.08137\n",
      "Time: 1711353600 Close: 1.08137\n",
      "Time: 1711357200 Close: 1.08175\n",
      "Time: 1711360800 Close: 1.08179\n",
      "Time: 1711364400 Close: 1.08284\n",
      "Time: 1711368000 Close: 1.08306\n",
      "Time: 1711371600 Close: 1.0835\n",
      "Time: 1711375200 Close: 1.08389\n",
      "Time: 1711378800 Close: 1.08366\n",
      "Time: 1711382400 Close: 1.08366\n",
      "Time: 1711386000 Close: 1.08364\n",
      "Time: 1711389600 Close: 1.08358\n",
      "Time: 1711393200 Close: 1.08392\n",
      "Time: 1711396800 Close: 1.08371\n",
      "Time: 1711401300 Close: 1.08366\n",
      "Time: 1711404000 Close: 1.08369\n",
      "Time: 1711407600 Close: 1.08369\n",
      "Time: 1711411200 Close: 1.08427\n",
      "Time: 1711414800 Close: 1.08405\n",
      "Time: 1711418400 Close: 1.08426\n",
      "Time: 1711422000 Close: 1.08368\n",
      "Time: 1711425600 Close: 1.08401\n",
      "Time: 1711429200 Close: 1.08471\n",
      "Time: 1711432800 Close: 1.08478\n",
      "              DateTime    Close\n",
      "0  2024-03-24 21:15:44  1.08084\n",
      "1  2024-03-24 22:00:32  1.08083\n",
      "2  2024-03-24 23:00:16  1.08071\n",
      "3  2024-03-25 00:00:00  1.08035\n",
      "4  2024-03-25 00:59:44  1.08169\n",
      "5  2024-03-25 01:59:28  1.08216\n",
      "6  2024-03-25 02:59:12  1.08135\n",
      "7  2024-03-25 04:01:04  1.08131\n",
      "8  2024-03-25 05:00:48  1.08222\n",
      "9  2024-03-25 06:00:32  1.08174\n",
      "10 2024-03-25 07:00:16  1.08137\n",
      "11 2024-03-25 08:00:00  1.08137\n",
      "12 2024-03-25 08:59:44  1.08175\n",
      "13 2024-03-25 09:59:28  1.08179\n",
      "14 2024-03-25 10:59:12  1.08284\n",
      "15 2024-03-25 11:58:56  1.08306\n",
      "16 2024-03-25 13:00:48  1.08350\n",
      "17 2024-03-25 14:00:32  1.08389\n",
      "18 2024-03-25 15:00:16  1.08366\n",
      "19 2024-03-25 16:00:00  1.08366\n",
      "20 2024-03-25 16:59:44  1.08364\n",
      "21 2024-03-25 17:59:28  1.08358\n",
      "22 2024-03-25 18:59:12  1.08392\n",
      "23 2024-03-25 20:01:04  1.08371\n",
      "24 2024-03-25 21:15:44  1.08366\n",
      "25 2024-03-25 22:00:32  1.08369\n",
      "26 2024-03-25 23:00:16  1.08369\n",
      "27 2024-03-26 00:00:00  1.08427\n",
      "28 2024-03-26 00:59:44  1.08405\n",
      "29 2024-03-26 01:59:28  1.08426\n",
      "30 2024-03-26 02:59:12  1.08368\n",
      "31 2024-03-26 03:58:56  1.08401\n",
      "32 2024-03-26 05:00:48  1.08471\n",
      "33 2024-03-26 06:00:32  1.08478\n"
     ]
    },
    {
     "name": "stderr",
     "output_type": "stream",
     "text": [
      "/var/folders/md/8ytmcp2d5rddds3hlxmx_79c0000gp/T/ipykernel_92430/1098296468.py:45: FutureWarning: The behavior of 'to_datetime' with 'unit' when parsing strings is deprecated. In a future version, strings will be parsed as datetime strings, matching the behavior without a 'unit'. To retain the old behavior, explicitly cast ints or floats to numeric type before calling to_datetime.\n",
      "  df['DateTime'] = pandas.to_datetime(df['DateTime'],unit='s')\n"
     ]
    }
   ],
   "source": [
    "# Store historical data for later use\n",
    "\n",
    "from ibapi.client import EClient\n",
    "from ibapi.wrapper import EWrapper\n",
    "from ibapi.contract import Contract\n",
    "\n",
    "import threading\n",
    "import time\n",
    "\n",
    "class IBapi(EWrapper, EClient):\n",
    "\tdef __init__(self):\n",
    "\t\tEClient.__init__(self, self)\n",
    "\t\tself.data = [] #Initialize variable to store candle\n",
    "\n",
    "\tdef historicalData(self, reqId, bar):\n",
    "\t\tprint(f'Time: {bar.date} Close: {bar.close}')\n",
    "\t\tself.data.append([bar.date, bar.close])\n",
    "\t\t\n",
    "def run_loop():\n",
    "\tapp.run()\n",
    "\n",
    "app = IBapi()\n",
    "app.connect('127.0.0.1', 7497, 123)\n",
    "\n",
    "#Start the socket in a thread\n",
    "api_thread = threading.Thread(target=run_loop, daemon=True)\n",
    "api_thread.start()\n",
    "\n",
    "time.sleep(1) #Sleep interval to allow time for connection to server\n",
    "\n",
    "#Create contract object\n",
    "eurusd_contract = Contract()\n",
    "eurusd_contract.symbol = 'EUR'\n",
    "eurusd_contract.secType = 'CASH'\n",
    "eurusd_contract.exchange = 'IDEALPRO'\n",
    "eurusd_contract.currency = 'USD'\n",
    "\n",
    "#Request historical candles\n",
    "app.reqHistoricalData(1, eurusd_contract, '', '2 D', '1 hour', 'BID', 0, 2, False, [])\n",
    "\n",
    "time.sleep(5) #sleep to allow enough time for data to be returned\n",
    "\n",
    "#Working with Pandas DataFrames\n",
    "import pandas\n",
    "\n",
    "df = pandas.DataFrame(app.data, columns=['DateTime', 'Close'])\n",
    "df['DateTime'] = pandas.to_datetime(df['DateTime'],unit='s') \n",
    "df.to_csv('EURUSD_Hourly.csv')  \n",
    "\n",
    "print(df)\n",
    "\n",
    "\n",
    "app.disconnect()"
   ]
  },
  {
   "cell_type": "code",
   "execution_count": 25,
   "id": "a235fc7c-0ceb-4b62-8d0d-169ed858b8f5",
   "metadata": {},
   "outputs": [
    {
     "name": "stderr",
     "output_type": "stream",
     "text": [
      "ERROR -1 2104 Market data farm connection is OK:hfarm\n",
      "ERROR -1 2104 Market data farm connection is OK:usfarm.nj\n",
      "ERROR -1 2104 Market data farm connection is OK:jfarm\n",
      "ERROR -1 2104 Market data farm connection is OK:usfuture\n",
      "ERROR -1 2104 Market data farm connection is OK:cashfarm\n",
      "ERROR -1 2104 Market data farm connection is OK:eufarmnj\n",
      "ERROR -1 2104 Market data farm connection is OK:usfarm\n",
      "ERROR -1 2106 HMDS data farm connection is OK:euhmds\n",
      "ERROR -1 2106 HMDS data farm connection is OK:fundfarm\n",
      "ERROR -1 2106 HMDS data farm connection is OK:ushmds\n",
      "ERROR -1 2158 Sec-def data farm connection is OK:secdefil\n"
     ]
    },
    {
     "name": "stdout",
     "output_type": "stream",
     "text": [
      "waiting for connection\n",
      "The next valid order id is:  3\n",
      "connected\n"
     ]
    },
    {
     "name": "stderr",
     "output_type": "stream",
     "text": [
      "ERROR 3 451 The following order \"ID:3\" value estimate of 108,292.00 USD exceeds  the Total Value Limit of 100,000 USD. Restriction is specified in Precautionary Settings of Global Configuration/Presets.\n"
     ]
    },
    {
     "name": "stdout",
     "output_type": "stream",
     "text": [
      "cancelling order\n"
     ]
    }
   ],
   "source": [
    "# Fire a trade using IBAPI\n",
    "\n",
    "from ibapi.client import EClient\n",
    "from ibapi.wrapper import EWrapper\n",
    "from ibapi.contract import Contract\n",
    "from ibapi.order import *\n",
    "\n",
    "import threading\n",
    "import time\n",
    "\n",
    "class IBapi(EWrapper, EClient):\n",
    "\tdef __init__(self):\n",
    "\t\tEClient.__init__(self, self)\n",
    "\n",
    "\tdef nextValidId(self, orderId: int):\n",
    "\t\tsuper().nextValidId(orderId)\n",
    "\t\tself.nextorderId = orderId\n",
    "\t\tprint('The next valid order id is: ', self.nextorderId)\n",
    "\n",
    "\tdef orderStatus(self, orderId, status, filled, remaining, avgFullPrice, permId, parentId, lastFillPrice, clientId, whyHeld, mktCapPrice):\n",
    "\t\tprint('orderStatus - orderid:', orderId, 'status:', status, 'filled', filled, 'remaining', remaining, 'lastFillPrice', lastFillPrice)\n",
    "\t\n",
    "\tdef openOrder(self, orderId, contract, order, orderState):\n",
    "\t\tprint('openOrder id:', orderId, contract.symbol, contract.secType, '@', contract.exchange, ':', order.action, order.orderType, order.totalQuantity, orderState.status)\n",
    "\n",
    "\tdef execDetails(self, reqId, contract, execution):\n",
    "\t\tprint('Order Executed: ', reqId, contract.symbol, contract.secType, contract.currency, execution.execId, execution.orderId, execution.shares, execution.lastLiquidity)\n",
    "\n",
    "\n",
    "def run_loop():\n",
    "\tapp.run()\n",
    "\n",
    "#Function to create FX Order contract\n",
    "def FX_order(symbol):\n",
    "\tcontract = Contract()\n",
    "\tcontract.symbol = symbol[:3]\n",
    "\tcontract.secType = 'CASH'\n",
    "\tcontract.exchange = 'IDEALPRO'\n",
    "\tcontract.currency = symbol[3:]\n",
    "\treturn contract\n",
    "\n",
    "app = IBapi()\n",
    "app.connect('127.0.0.1', 7497, 123)\n",
    "\n",
    "app.nextorderId = None\n",
    "\n",
    "#Start the socket in a thread\n",
    "api_thread = threading.Thread(target=run_loop, daemon=True)\n",
    "api_thread.start()\n",
    "\n",
    "#Check if the API is connected via orderid\n",
    "while True:\n",
    "\tif isinstance(app.nextorderId, int):\n",
    "\t\tprint('connected')\n",
    "\t\tbreak\n",
    "\telse:\n",
    "\t\tprint('waiting for connection')\n",
    "\t\ttime.sleep(1)\n",
    "\n",
    "#Create order object\n",
    "order = Order()\n",
    "order.action = 'BUY'\n",
    "order.totalQuantity = 100000\n",
    "order.orderType = 'LMT'\n",
    "order.lmtPrice = '1.10'\n",
    "\n",
    "#Place order\n",
    "app.placeOrder(app.nextorderId, FX_order('EURUSD'), order)\n",
    "app.nextorderId += 1\n",
    "\n",
    "time.sleep(3)\n",
    "\n",
    "#Cancel order \n",
    "print('cancelling order')\n",
    "app.cancelOrder(app.nextorderId-1,\"\")\n",
    "\n",
    "time.sleep(3)\n",
    "app.disconnect()"
   ]
  },
  {
   "cell_type": "code",
   "execution_count": null,
   "id": "bdb4cd28-ece6-442c-b2b2-164bbc54481d",
   "metadata": {},
   "outputs": [],
   "source": [
    "# stop loss or take profit\n",
    "\n"
   ]
  }
 ],
 "metadata": {
  "kernelspec": {
   "display_name": "Python 3.8.9 64-bit",
   "language": "python",
   "name": "python389jvsc74a57bd031f2aee4e71d21fbe5cf8b01ff0e069b9275f58929596ceb00d14d90e3e16cd6"
  },
  "language_info": {
   "codemirror_mode": {
    "name": "ipython",
    "version": 3
   },
   "file_extension": ".py",
   "mimetype": "text/x-python",
   "name": "python",
   "nbconvert_exporter": "python",
   "pygments_lexer": "ipython3",
   "version": "3.8.9"
  }
 },
 "nbformat": 4,
 "nbformat_minor": 5
}

{
 "cells": [
  {
   "cell_type": "code",
   "execution_count": 1,
   "id": "3ea6453d",
   "metadata": {},
   "outputs": [],
   "source": [
    "def Stock_contract(symbol, secType='STK', exchange='SMART', currency='USD'):\n",
    "    ''' custom function to create stock contract '''\n",
    "    contract = Contract()\n",
    "    contract.symbol = symbol\n",
    "    contract.secType = secType\n",
    "    contract.exchange = exchange\n",
    "    contract.currency = currency\n",
    "    contract.primaryExchange = \"NASDAQ\"\n",
    "    return contract\n",
    "\n",
    "def run_loop():\n",
    "    app.run()\n",
    "\n",
    "def submit_order(contract, direction, qty=100, ordertype='MKT', transmit=True):\n",
    "    #Create order\n",
    "    \n",
    "    order = Order()\n",
    "    order.action = direction\n",
    "    order.totalQuantity = qty\n",
    "    order.orderType = ordertype\n",
    "    order.transmit = transmit\n",
    "    \n",
    "    #submit order\n",
    "    app.placeOrder(app.nextorderId, contract, order)\n",
    "    app.nextorderId += 1"
   ]
  },
  {
   "cell_type": "code",
   "execution_count": 9,
   "id": "77b9c047",
   "metadata": {},
   "outputs": [],
   "source": [
    "from ibapi.client import EClient\n",
    "from ibapi.wrapper import EWrapper\n",
    "from ibapi.contract import Contract\n",
    "from ibapi.order import *\n",
    "import pandas\n",
    "import threading\n",
    "import time\n",
    "\n",
    "class IBapi(EWrapper, EClient):\n",
    "    \n",
    "    def __init__(self):\n",
    "        EClient.__init__(self, self)\n",
    "        self.data = []\n",
    "        self.contract_details = {}\n",
    "        \n",
    "    def error(self, reqId, errorCode, errorString):\n",
    "        print ('Error: ', reqId, errorCode, ' ', errorString)\n",
    "\n",
    "    def historicalData(self,reqId, bar):\n",
    "\n",
    "        print (bar)\n",
    "        self.data.append([bar.date, bar.close, bar.volume, sym_dict[reqId]])\n",
    "        \n",
    "    def nextValidId(self, orderId: int):\n",
    "        super().nextValidId(orderId)\n",
    "        self.nextorderId = orderId\n",
    "        print('The next valid order id is: ', self.nextorderId)\n",
    "        \n",
    "    def orderStatus(self, orderId, status, filled, remaining, avgFullPrice, permId, parentId, lastFillPrice, clientId, whyHeld, mktCapPrice):\n",
    "        print('orderStatus - orderid:', orderId, 'status:', status, 'filled', filled, 'remaining', remaining, 'lastFillPrice', lastFillPrice)\n",
    "\n",
    "    def openOrder(self, orderId, contract, order, orderState):\n",
    "        print('openOrder id:', orderId, contract.symbol, contract.secType, '@', contract.exchange, ':', order.action, order.orderType, order.totalQuantity, orderState.status)\n",
    "    \n",
    "    def execDetails(self, reqId, contract, execution):\n",
    "        print('Order Executed: ', reqId, contract.symbol, contract.secType, contract.currency, execution.execId, execution.orderId, execution.shares)\n",
    "    \n",
    "    \n",
    "    def contractDetails(self, reqId: int, contractDetails):\n",
    "        self.contract_details[reqId] = contractDetails\n",
    "\n",
    "    def get_contract_details(self, reqId: int, contract):\n",
    "        self.contract_details[reqId] = None\n",
    "        self.reqContractDetails(reqId, contract)\n",
    "    \n",
    "    def cancel_Order(self, orderId):\n",
    "        self.cancelOrder(orderId)\n",
    "        print('Order'+ \" \" + f\"{orderId}\" + \" \" + 'canceld')"
   ]
  },
  {
   "cell_type": "code",
   "execution_count": 5,
   "id": "20e1f230",
   "metadata": {},
   "outputs": [],
   "source": [
    "def run_loop():\n",
    "    app.run()\n",
    "\n",
    "def makeContract(symbol):\n",
    "    contract = Contract()\n",
    "    contract.symbol = symbol\n",
    "    contract.secType = 'STK'\n",
    "    contract.exchange = 'SMART'\n",
    "    contract.currency = 'USD'\n",
    "    return contract"
   ]
  },
  {
   "cell_type": "code",
   "execution_count": 8,
   "id": "843bdc26",
   "metadata": {},
   "outputs": [
    {
     "name": "stdout",
     "output_type": "stream",
     "text": [
      "Error:  -1 502   Couldn't connect to TWS. Confirm that \"Enable ActiveX and Socket EClients\" \n",
      "is enabled and connection port is the same as \"Socket Port\" on the \n",
      "TWS \"Edit->Global Configuration...->API->Settings\" menu. Live Trading ports: \n",
      "TWS: 7496; IB Gateway: 4001. Simulated Trading ports for new installations \n",
      "of version 954.1 or newer:  TWS: 7497; IB Gateway: 4002\n"
     ]
    }
   ],
   "source": [
    "# INITIALIZING THE ID OF THE ORDER IN THE IBAPI\n",
    "app = IBapi()\n",
    "    \n",
    "app.connect(\"127.0.0.1\", 7497, 0)\n",
    "time.sleep(1)\n",
    "app.nextorderId = 1\n",
    "\n",
    "api_thread = threading.Thread(target=run_loop, daemon=True)\n",
    "api_thread.start()\n",
    "time.sleep(3)"
   ]
  },
  {
   "cell_type": "code",
   "execution_count": 7,
   "id": "015c2019",
   "metadata": {},
   "outputs": [
    {
     "name": "stdout",
     "output_type": "stream",
     "text": [
      "Error:  7 10268   The 'EtradeOnly' order attribute is not supported.\n"
     ]
    }
   ],
   "source": [
    "submit_order(contract = Stock_contract(symbol=\"NFLX\"), direction=\"BUY\")\n",
    "time.sleep(1)\n",
    "#submit_order(contract = Stock_contract(symbol=\"AAPL\"), direction=\"SELL\")"
   ]
  }
 ],
 "metadata": {
  "kernelspec": {
   "display_name": "Python 3.8.9 64-bit",
   "language": "python",
   "name": "python389jvsc74a57bd031f2aee4e71d21fbe5cf8b01ff0e069b9275f58929596ceb00d14d90e3e16cd6"
  },
  "language_info": {
   "codemirror_mode": {
    "name": "ipython",
    "version": 3
   },
   "file_extension": ".py",
   "mimetype": "text/x-python",
   "name": "python",
   "nbconvert_exporter": "python",
   "pygments_lexer": "ipython3",
   "version": "3.8.9"
  }
 },
 "nbformat": 4,
 "nbformat_minor": 5
}

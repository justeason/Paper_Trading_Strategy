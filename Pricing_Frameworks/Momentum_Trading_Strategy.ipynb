{
 "cells": [
  {
   "cell_type": "markdown",
   "id": "b9b84f7f-5831-491e-9d94-877ba09ea8f2",
   "metadata": {},
   "source": [
    "## Moving Average Convergence Divergence (MACD) Indicator:"
   ]
  },
  {
   "cell_type": "code",
   "execution_count": 10,
   "id": "5f49c354-b410-4789-be8c-dc32b56bd3c7",
   "metadata": {
    "tags": []
   },
   "outputs": [
    {
     "ename": "ModuleNotFoundError",
     "evalue": "No module named 'ta'",
     "output_type": "error",
     "traceback": [
      "\u001b[0;31m---------------------------------------------------------------------------\u001b[0m",
      "\u001b[0;31mModuleNotFoundError\u001b[0m                       Traceback (most recent call last)",
      "Input \u001b[0;32mIn [10]\u001b[0m, in \u001b[0;36m<module>\u001b[0;34m\u001b[0m\n\u001b[1;32m      3\u001b[0m \u001b[38;5;28;01mimport\u001b[39;00m \u001b[38;5;21;01myfinance\u001b[39;00m \u001b[38;5;28;01mas\u001b[39;00m \u001b[38;5;21;01myf\u001b[39;00m\n\u001b[1;32m      5\u001b[0m \u001b[38;5;28;01mimport\u001b[39;00m \u001b[38;5;21;01mmatplotlib\u001b[39;00m\u001b[38;5;21;01m.\u001b[39;00m\u001b[38;5;21;01mpyplot\u001b[39;00m \u001b[38;5;28;01mas\u001b[39;00m \u001b[38;5;21;01mplt\u001b[39;00m\n\u001b[0;32m----> 6\u001b[0m \u001b[38;5;28;01mimport\u001b[39;00m \u001b[38;5;21;01mta\u001b[39;00m\n",
      "\u001b[0;31mModuleNotFoundError\u001b[0m: No module named 'ta'"
     ]
    }
   ],
   "source": [
    "import pandas as pd\n",
    "import numpy as np\n",
    "import yfinance as yf\n",
    "\n",
    "import matplotlib.pyplot as plt\n",
    "import ta"
   ]
  },
  {
   "cell_type": "code",
   "execution_count": null,
   "id": "1db38d6d-3a17-4d47-a174-4d521cca3794",
   "metadata": {},
   "outputs": [],
   "source": [
    "# MACD = 12-period EMA (Exponential Moving Average) - 26-period EMA\n",
    "data = yf.download('TSLA', start='2020-01-01', end='2023-01-01')\n",
    "data.head()"
   ]
  },
  {
   "cell_type": "code",
   "execution_count": 6,
   "id": "3ad6379c-ac6c-4d1e-8668-94d144edc274",
   "metadata": {},
   "outputs": [],
   "source": [
    "macd_object = ta.trend.MACD(data['Close'])\n",
    "data['MACD'] = macd_object.macd()\n",
    "data['MACD_Signal'] = macd_object.macd_signal()\n",
    "data['MACD_Diff'] = macd_object.macd_diff()\n",
    "data.tail()"
   ]
  },
  {
   "cell_type": "code",
   "execution_count": null,
   "id": "46c5e91e-82db-4a84-8490-1f9b88d04128",
   "metadata": {},
   "outputs": [],
   "source": [
    "class ta.trend.MACD(\n",
    "  close: pandas.core.series.Series, \n",
    "  window_slow: int = 26, window_fast: int = 12, \n",
    "  window_sign: int = 9, fillna: bool = False\n",
    ")"
   ]
  },
  {
   "cell_type": "code",
   "execution_count": null,
   "id": "fc079161-db9c-4257-8999-0ddfaf706745",
   "metadata": {},
   "outputs": [],
   "source": [
    "# Plotting\n",
    "plt.figure(figsize=(14, 7))\n",
    "\n",
    "# Plotting Close Price\n",
    "plt.subplot(2, 1, 1)\n",
    "plt.plot(data['Close'], label='Close Price')\n",
    "plt.title('Tesla Stock Price and MACD')\n",
    "plt.legend()\n",
    "\n",
    "# Plotting MACD\n",
    "plt.subplot(2, 1, 2)\n",
    "plt.plot(data['MACD'], label='MACD Line', color='blue')\n",
    "plt.plot(data['MACD_Signal'], label='Signal Line', color='red')\n",
    "plt.bar(data.index, data['MACD_Diff'], label='Histogram', color='grey', alpha=0.5)\n",
    "plt.legend()\n",
    "\n",
    "plt.show()"
   ]
  },
  {
   "cell_type": "markdown",
   "id": "a97719e5-4c36-4ffb-91ae-d1e646dee9c1",
   "metadata": {},
   "source": [
    "## Bollinger Bands Indicator:"
   ]
  },
  {
   "cell_type": "code",
   "execution_count": null,
   "id": "8356adce-7ff3-4a15-9c51-1d66069181aa",
   "metadata": {},
   "outputs": [],
   "source": [
    "import ta\n",
    "import talib\n",
    "import yfinance as yf\n",
    "import mplfinance as mpf\n",
    "import matplotlib.pyplot as plt\n",
    "from datetime import datetime, timedelta"
   ]
  },
  {
   "cell_type": "code",
   "execution_count": null,
   "id": "4c70701c-1246-4694-99e7-14e9d8fc03e7",
   "metadata": {},
   "outputs": [],
   "source": [
    "ticker = \"TSLA\"\n",
    "\n",
    "end_date = datetime.today().strftime('%Y-%m-%d')\n",
    "start_date = (datetime.today() - timedelta(days=700)).strftime('%Y-%m-%d')\n",
    "\n",
    "data = yf.download(ticker, start=start_date, end=end_date, interval='1h')\n",
    "\n",
    "mpf.plot(data, type='candle', volume=True, style='yahoo')"
   ]
  },
  {
   "cell_type": "code",
   "execution_count": null,
   "id": "b0fc3963-bf2b-49f6-822d-6124d6b0d042",
   "metadata": {},
   "outputs": [],
   "source": [
    "indicator_bb = ta.volatility.BollingerBands(close=data[\"Close\"], \n",
    "                                            window=20, window_dev=2)\n",
    "data['bb_bbm'] = indicator_bb.bollinger_mavg()   # Middle Band\n",
    "data['bb_bbh'] = indicator_bb.bollinger_hband()  # Upper Band\n",
    "data['bb_bbl'] = indicator_bb.bollinger_lband()  # Lower Band\n",
    "data.tail()"
   ]
  },
  {
   "cell_type": "code",
   "execution_count": null,
   "id": "005f2498-36ed-4e47-b6d8-43632962b3e2",
   "metadata": {},
   "outputs": [],
   "source": [
    "plt.figure(figsize=(14,7))\n",
    "plt.plot(data[\"Close\"], label='Tesla Prices', color='blue')\n",
    "plt.plot(data['bb_bbh'], label='Upper Band', color='red')\n",
    "plt.plot(data['bb_bbm'], label='Middle Band (SMA)', color='green')\n",
    "plt.plot(data['bb_bbl'], label='Lower Band', color='red')\n",
    "plt.title('Bollinger Bands for Tesla Prices')\n",
    "plt.xlabel('Date')\n",
    "plt.ylabel('Price')\n",
    "plt.legend()\n",
    "plt.grid(True)\n",
    "plt.show()"
   ]
  },
  {
   "cell_type": "markdown",
   "id": "d0b9422c-6970-4ca1-801c-31e16fe0687c",
   "metadata": {},
   "source": [
    "## RSI relative strength index:"
   ]
  },
  {
   "cell_type": "code",
   "execution_count": null,
   "id": "247490f1-20b3-460d-97ca-1c2ee15fc4b0",
   "metadata": {},
   "outputs": [],
   "source": [
    "import yfinance as yf\n",
    "from datetime import datetime, timedelta\n",
    "\n",
    "ticker = \"TSLA\"\n",
    "\n",
    "end_date = datetime.today().strftime('%Y-%m-%d')\n",
    "start_date = (datetime.today() - timedelta(days=700)).strftime('%Y-%m-%d')\n",
    "\n",
    "data = yf.download(ticker, start=start_date, end=end_date, interval='1h')"
   ]
  },
  {
   "cell_type": "code",
   "execution_count": null,
   "id": "f8bc8078-aa76-4406-9afb-10efa550835c",
   "metadata": {},
   "outputs": [],
   "source": [
    "import mplfinance as mpf\n",
    "\n",
    "mpf.plot(data, type='candle', volume=True, style='yahoo')"
   ]
  },
  {
   "cell_type": "code",
   "execution_count": null,
   "id": "21f2d44d-e675-4f53-b826-bd6204e87600",
   "metadata": {},
   "outputs": [],
   "source": [
    "import ta\n",
    "\n",
    "data['RSI'] = ta.momentum.RSIIndicator(data['Close']).rsi()"
   ]
  },
  {
   "cell_type": "code",
   "execution_count": null,
   "id": "bdd00e34-1bc6-4a9a-a6c7-7434bfa9f245",
   "metadata": {},
   "outputs": [],
   "source": [
    "import matplotlib.pyplot as plt\n",
    "\n",
    "upper_limit = 70\n",
    "lower_limit = 30\n",
    "\n",
    "plt.figure(figsize=(10, 6))\n",
    "plt.plot(data.index, data['RSI'])\n",
    "plt.axhline(y=upper_limit, color='r', linestyle='--', label='Overbought (70)')\n",
    "plt.axhline(y=lower_limit, color='g', linestyle='--', label='Oversold (30)')\n",
    "plt.title('RSI of Tesla Stock')\n",
    "plt.xlabel('Date')\n",
    "plt.ylabel('RSI')\n",
    "plt.legend()\n",
    "plt.grid(True)\n",
    "plt.show()"
   ]
  },
  {
   "cell_type": "code",
   "execution_count": null,
   "id": "00dff14f-ca8d-4b25-ab16-6067b2bab898",
   "metadata": {},
   "outputs": [],
   "source": [
    "# Define the initial capital and track the current capital\n",
    "initial_capital = 100\n",
    "current_capital = initial_capital\n",
    "\n",
    "# Define the overbought and oversold limits\n",
    "overbought_limit = 70\n",
    "oversold_limit = 30\n",
    "\n",
    "# Define the initial holding status\n",
    "is_holding = False\n",
    "\n",
    "# Iterate through the RSI data and make buy/sell decisions\n",
    "for i in range(1, len(data)):\n",
    "    current_rsi = data['RSI'][i]\n",
    "    current_price = data['Close'][i]\n",
    "\n",
    "    if current_rsi < oversold_limit and not is_holding:\n",
    "        # Buy condition\n",
    "        shares_to_buy = current_capital / current_price\n",
    "        current_capital = 0\n",
    "        is_holding = True\n",
    "        print(f\"Buy {shares_to_buy} shares at {current_price} -> Rsi Level: {current_rsi}\")\n",
    "\n",
    "    elif current_rsi > overbought_limit and is_holding:\n",
    "        # Sell condition\n",
    "        current_capital = current_capital + (current_price * shares_to_buy)\n",
    "        is_holding = False\n",
    "        print(f\"Sell {shares_to_buy} shares at {current_price} -> Rsi Level: {current_rsi}\")\n",
    "\n",
    "# Print the final capital\n",
    "print(f\"Final capital: ${current_capital}\")"
   ]
  }
 ],
 "metadata": {
  "kernelspec": {
   "display_name": "Python 3.8.9 64-bit",
   "language": "python",
   "name": "python389jvsc74a57bd031f2aee4e71d21fbe5cf8b01ff0e069b9275f58929596ceb00d14d90e3e16cd6"
  },
  "language_info": {
   "codemirror_mode": {
    "name": "ipython",
    "version": 3
   },
   "file_extension": ".py",
   "mimetype": "text/x-python",
   "name": "python",
   "nbconvert_exporter": "python",
   "pygments_lexer": "ipython3",
   "version": "3.8.9"
  }
 },
 "nbformat": 4,
 "nbformat_minor": 5
}
